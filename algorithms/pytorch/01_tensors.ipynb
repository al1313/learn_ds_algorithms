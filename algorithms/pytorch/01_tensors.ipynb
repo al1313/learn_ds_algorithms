{
 "cells": [
  {
   "cell_type": "code",
   "execution_count": 1,
   "metadata": {},
   "outputs": [
    {
     "data": {
      "text/plain": [
       "'2.1.2+cpu'"
      ]
     },
     "execution_count": 1,
     "metadata": {},
     "output_type": "execute_result"
    }
   ],
   "source": [
    "import torch\n",
    "torch.__version__"
   ]
  },
  {
   "cell_type": "markdown",
   "metadata": {},
   "source": [
    "Creating tensors"
   ]
  },
  {
   "cell_type": "code",
   "execution_count": 24,
   "metadata": {},
   "outputs": [
    {
     "name": "stdout",
     "output_type": "stream",
     "text": [
      "tensor(7)\n",
      "Dimension of scalar: 0\n",
      "Content of scalar: 7\n",
      "Shape of scalar: torch.Size([])\n",
      "Device scalar is stored on: cpu\n"
     ]
    }
   ],
   "source": [
    "# scalar\n",
    "scalar = torch.tensor(7)\n",
    "print(scalar)\n",
    "print(f\"Dimension of scalar: {scalar.ndim}\") # getting dimension\n",
    "print(f\"Content of scalar: {scalar.item()}\") # getting the value from the tensor - i.e. from torch.Tensor to a Python integer\n",
    "print(f\"Shape of scalar: {scalar.shape}\") # getting shape - should be empty as a scalar has zero dimension\n",
    "print(f\"Device scalar is stored on: {scalar.device}\")"
   ]
  },
  {
   "cell_type": "code",
   "execution_count": 22,
   "metadata": {},
   "outputs": [
    {
     "name": "stdout",
     "output_type": "stream",
     "text": [
      "tensor([13, 13, 13], dtype=torch.int32)\n",
      "Dimension of vector: 1\n",
      "Content of vector: [13 13 13]\n",
      "Shape of vector: torch.Size([3])\n",
      "Device vector is stored on: cpu\n"
     ]
    }
   ],
   "source": [
    "# vector\n",
    "vector = torch.tensor([13,13,13], dtype=torch.int32) # can specify dtype when constructing the tensor. there are 10 tensor types in Torch\n",
    "print(vector)\n",
    "print(f\"Dimension of vector: {vector.ndim}\") # getting dimension\n",
    "print(f\"Content of vector: {vector.numpy()}\") # getting the value from the tensor - i.e. from torch.Tensor to a numpy array\n",
    "print(f\"Shape of vector: {vector.shape}\") # getting shape\n",
    "print(f\"Device vector is stored on: {vector.device}\")\n",
    "\n",
    "# note: work out the dimension by counting the number of brackets"
   ]
  },
  {
   "cell_type": "code",
   "execution_count": 26,
   "metadata": {},
   "outputs": [
    {
     "name": "stdout",
     "output_type": "stream",
     "text": [
      "Dimension of tensor: 2\n",
      "Content of tensor: [[1 2 3 4]\n",
      " [3 6 9 5]\n",
      " [2 4 5 3]]\n",
      "Shape of tensor: torch.Size([3, 4])\n",
      "Datatype of tensor: torch.int64\n"
     ]
    }
   ],
   "source": [
    "# Tensor\n",
    "TENSOR = torch.tensor([[1, 2, 3, 4],\n",
    "                        [3, 6, 9, 5],\n",
    "                        [2, 4, 5, 3]])\n",
    "print(f\"Dimension of tensor: {TENSOR.ndim}\") # getting dimension\n",
    "print(f\"Content of tensor: {TENSOR.numpy()}\") # getting the value from the tensor - i.e. from torch.Tensor to a numpy array\n",
    "print(f\"Shape of tensor: {TENSOR.shape}\") # getting shape - the size go outer to inner\n",
    "print(f\"Datatype of tensor: {TENSOR.dtype}\") # getting shape - the size go outer to inner"
   ]
  },
  {
   "cell_type": "markdown",
   "metadata": {},
   "source": [
    "Generate random tensors"
   ]
  },
  {
   "cell_type": "code",
   "execution_count": 78,
   "metadata": {},
   "outputs": [
    {
     "data": {
      "text/plain": [
       "(tensor([[[0.0918, 0.4794, 0.8106, 0.0151],\n",
       "          [0.0153, 0.6036, 0.2318, 0.8633],\n",
       "          [0.9859, 0.1975, 0.0830, 0.4253],\n",
       "          [0.9149, 0.4799, 0.5348, 0.2695]],\n",
       " \n",
       "         [[0.2530, 0.3390, 0.8367, 0.1289],\n",
       "          [0.9693, 0.4495, 0.4031, 0.8202],\n",
       "          [0.9792, 0.3278, 0.4076, 0.7276],\n",
       "          [0.4506, 0.2334, 0.0411, 0.2441]],\n",
       " \n",
       "         [[0.6077, 0.8273, 0.9808, 0.2711],\n",
       "          [0.4097, 0.3002, 0.7334, 0.1585],\n",
       "          [0.9681, 0.0544, 0.7821, 0.4113],\n",
       "          [0.7642, 0.8274, 0.9497, 0.3553]]]),\n",
       " torch.float32)"
      ]
     },
     "execution_count": 78,
     "metadata": {},
     "output_type": "execute_result"
    }
   ],
   "source": [
    "# A 3 channel RGB image of size 4x4 pixels\n",
    "\n",
    "# Set the random seed\n",
    "# Note: Have to reset the seed every time a new rand() is called \n",
    "\n",
    "RANDOM_SEED=13\n",
    "torch.manual_seed(seed=RANDOM_SEED) \n",
    "\n",
    "random_tensor = torch.rand(size=(3, 4, 4))\n",
    "random_tensor, random_tensor.dtype"
   ]
  },
  {
   "cell_type": "code",
   "execution_count": 30,
   "metadata": {},
   "outputs": [
    {
     "name": "stdout",
     "output_type": "stream",
     "text": [
      "tensor([[0., 0., 0., 0.],\n",
      "        [0., 0., 0., 0.],\n",
      "        [0., 0., 0., 0.]])\n",
      "tensor([[1., 1., 1., 1.],\n",
      "        [1., 1., 1., 1.],\n",
      "        [1., 1., 1., 1.]])\n",
      "tensor([[1., 0., 0., 0., 0.],\n",
      "        [0., 1., 0., 0., 0.],\n",
      "        [0., 0., 1., 0., 0.],\n",
      "        [0., 0., 0., 1., 0.],\n",
      "        [0., 0., 0., 0., 1.]])\n",
      "tensor([0, 1, 2, 3, 4])\n"
     ]
    }
   ],
   "source": [
    "# Create a tensor of all zeros - e.g. to do masking\n",
    "zeros = torch.zeros(size=(3, 4))\n",
    "print(zeros)\n",
    "\n",
    "# Create a tensor of all ones\n",
    "ones = torch.ones(size=(3, 4))\n",
    "print(ones)\n",
    "\n",
    "# Create a tensor containing the identity matrix\n",
    "eye = torch.eye(n=5)\n",
    "print(eye)\n",
    "\n",
    "# Create a tensor containing a range of numbers\n",
    "ranges = torch.arange(start=0, end=5, step=1) # exclusive of end\n",
    "print(ranges)"
   ]
  },
  {
   "cell_type": "markdown",
   "metadata": {},
   "source": [
    "```{note}\n",
    "Ensure tensors have the same shape, dtype, device. They are often the cause of issues in Pytorch\n",
    "Check with my_tensor.shape, my_tensor.dtype, my_tensor.device\n",
    "```"
   ]
  },
  {
   "cell_type": "markdown",
   "metadata": {},
   "source": [
    "Manipulating tensors\n",
    "* Addition\n",
    "* Substraction\n",
    "* Multiplication (element-wise)\n",
    "* Division\n",
    "* Matrix multiplication"
   ]
  },
  {
   "cell_type": "code",
   "execution_count": 37,
   "metadata": {},
   "outputs": [
    {
     "name": "stdout",
     "output_type": "stream",
     "text": [
      "tensor([[11, 12, 13],\n",
      "        [11, 12, 13]])\n",
      "tensor([[-9, -8, -7],\n",
      "        [-9, -8, -7]])\n",
      "tensor([[10, 20, 30],\n",
      "        [10, 20, 30]])\n",
      "tensor([[0.1000, 0.2000, 0.3000],\n",
      "        [0.1000, 0.2000, 0.3000]])\n"
     ]
    }
   ],
   "source": [
    "# Basic operations just use operator symbols, even though torch has built-in functions like torch.mul() or torch.add()\n",
    "tensor = torch.tensor([[1, 2, 3], [1, 2, 3]])\n",
    "print(tensor + 10)\n",
    "print(tensor - 10)\n",
    "print(tensor * 10)\n",
    "print(tensor / 10)\n",
    "\n",
    "# Note: Tensors don't change unless reassigned"
   ]
  },
  {
   "cell_type": "code",
   "execution_count": 38,
   "metadata": {},
   "outputs": [
    {
     "name": "stdout",
     "output_type": "stream",
     "text": [
      "tensor([[2, 4, 6],\n",
      "        [2, 4, 6]])\n",
      "tensor([[0, 0, 0],\n",
      "        [0, 0, 0]])\n",
      "tensor([[1, 4, 9],\n",
      "        [1, 4, 9]])\n",
      "tensor([[1., 1., 1.],\n",
      "        [1., 1., 1.]])\n"
     ]
    }
   ],
   "source": [
    "# element-wise operation - not the same as matrix multiplication\n",
    "print(tensor + tensor)\n",
    "print(tensor - tensor)\n",
    "print(tensor * tensor)\n",
    "print(tensor / tensor)\n"
   ]
  },
  {
   "cell_type": "code",
   "execution_count": 39,
   "metadata": {},
   "outputs": [
    {
     "data": {
      "text/plain": [
       "tensor([[14, 14],\n",
       "        [14, 14]])"
      ]
     },
     "execution_count": 39,
     "metadata": {},
     "output_type": "execute_result"
    }
   ],
   "source": [
    "# Matrix multiplication\n",
    "# inner dimensions must match\n",
    "\n",
    "torch.matmul(tensor, tensor.T)\n",
    "\n",
    "# torch.matmul(tensor, torch.transpose(tensor, 0, 1)) \n"
   ]
  },
  {
   "cell_type": "markdown",
   "metadata": {},
   "source": [
    "Manipulating tensors"
   ]
  },
  {
   "cell_type": "code",
   "execution_count": 49,
   "metadata": {},
   "outputs": [
    {
     "data": {
      "text/plain": [
       "(tensor([1., 2., 3., 4., 5., 6., 7., 8.]), torch.Size([8]))"
      ]
     },
     "execution_count": 49,
     "metadata": {},
     "output_type": "execute_result"
    }
   ],
   "source": [
    "# reshaping\n",
    "\n",
    "x = torch.arange(1., 9.)\n",
    "x, x.shape"
   ]
  },
  {
   "cell_type": "code",
   "execution_count": 52,
   "metadata": {},
   "outputs": [
    {
     "data": {
      "text/plain": [
       "(tensor([[1., 2., 3., 4., 5., 6., 7., 8.]]), torch.Size([1, 8]))"
      ]
     },
     "execution_count": 52,
     "metadata": {},
     "output_type": "execute_result"
    }
   ],
   "source": [
    "x_reshaped  = x.reshape(1,8)\n",
    "x_reshaped, x_reshaped.shape"
   ]
  },
  {
   "cell_type": "code",
   "execution_count": 62,
   "metadata": {},
   "outputs": [
    {
     "data": {
      "text/plain": [
       "(tensor([[1., 2., 3., 4.],\n",
       "         [5., 6., 7., 8.]]),\n",
       " torch.Size([2, 4]))"
      ]
     },
     "execution_count": 62,
     "metadata": {},
     "output_type": "execute_result"
    }
   ],
   "source": [
    "x_reshaped  = x.reshape(2,4)\n",
    "x_reshaped, x_reshaped.shape"
   ]
  },
  {
   "cell_type": "code",
   "execution_count": 56,
   "metadata": {},
   "outputs": [
    {
     "data": {
      "text/plain": [
       "tensor([[[1., 2., 3., 4.],\n",
       "         [5., 6., 7., 8.]],\n",
       "\n",
       "        [[1., 2., 3., 4.],\n",
       "         [5., 6., 7., 8.]]])"
      ]
     },
     "execution_count": 56,
     "metadata": {},
     "output_type": "execute_result"
    }
   ],
   "source": [
    "# stack\n",
    "\n",
    "torch.stack([x_reshaped, x_reshaped], dim=0)"
   ]
  },
  {
   "cell_type": "code",
   "execution_count": null,
   "metadata": {},
   "outputs": [],
   "source": []
  },
  {
   "cell_type": "code",
   "execution_count": null,
   "metadata": {},
   "outputs": [],
   "source": []
  }
 ],
 "metadata": {
  "kernelspec": {
   "display_name": ".venv",
   "language": "python",
   "name": "python3"
  },
  "language_info": {
   "codemirror_mode": {
    "name": "ipython",
    "version": 3
   },
   "file_extension": ".py",
   "mimetype": "text/x-python",
   "name": "python",
   "nbconvert_exporter": "python",
   "pygments_lexer": "ipython3",
   "version": "3.11.5"
  }
 },
 "nbformat": 4,
 "nbformat_minor": 2
}
